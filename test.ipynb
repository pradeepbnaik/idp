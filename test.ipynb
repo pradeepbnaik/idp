{
 "cells": [
  {
   "cell_type": "code",
   "execution_count": 47,
   "metadata": {},
   "outputs": [],
   "source": [
    "from tkinter import *\n",
    "from turtle import width\n",
    "\n",
    "root = Tk()\n",
    "frame = Frame(root)\n",
    "\n",
    "l_frame = Frame(root,background=\"red\",width=500,height=700)\n",
    "l_frame.grid(row=0,column=0,rowspan=2)\n",
    "#l_frame.pack(side=TOP, anchor=NW)\n",
    "#l_frame.configure(width=200,height=400)\n",
    "#l_frame.place(x=0, y=0, width=200, height=400)\n",
    "\n",
    "r_frame = Frame(root,background=\"yellow\",width=500,height=500)\n",
    "r_frame.grid(row=0,column=1)\n",
    "#pack(side=LEFT,anchor=NW)\n",
    "\n",
    "b_frame = Frame(root,background=\"blue\",width=500,height=300)\n",
    "b_frame.grid(row=1,column=1)\n",
    "\n",
    "\n",
    "\n",
    "\n",
    "\n",
    "root.mainloop()"
   ]
  },
  {
   "cell_type": "code",
   "execution_count": 49,
   "metadata": {},
   "outputs": [],
   "source": [
    "from tkinter import *\n",
    "\n",
    "master = Tk()\n",
    "\n",
    "variable = StringVar(master)\n",
    "variable.set(\"one\") # default value\n",
    "\n",
    "w = OptionMenu(master, variable, \"one\", \"two\", \"three\")\n",
    "w.pack()\n",
    "\n",
    "mainloop()"
   ]
  },
  {
   "cell_type": "code",
   "execution_count": 51,
   "metadata": {},
   "outputs": [
    {
     "ename": "TclError",
     "evalue": "can't invoke \"image\" command: application has been destroyed",
     "output_type": "error",
     "traceback": [
      "\u001b[1;31m---------------------------------------------------------------------------\u001b[0m",
      "\u001b[1;31mTclError\u001b[0m                                  Traceback (most recent call last)",
      "\u001b[1;32mc:\\Users\\PRADEEP\\Documents\\Python Codes\\SamlpeGUI\\test.ipynb Cell 3\u001b[0m in \u001b[0;36m<cell line: 14>\u001b[1;34m()\u001b[0m\n\u001b[0;32m     <a href='vscode-notebook-cell:/c%3A/Users/PRADEEP/Documents/Python%20Codes/SamlpeGUI/test.ipynb#W2sZmlsZQ%3D%3D?line=11'>12</a>\u001b[0m down \u001b[39m=\u001b[39m\u001b[39mb\u001b[39m\u001b[39m'\u001b[39m\u001b[39m\\x89\u001b[39;00m\u001b[39mPNG\u001b[39m\u001b[39m\\r\u001b[39;00m\u001b[39m\\n\u001b[39;00m\u001b[39m\\x1a\u001b[39;00m\u001b[39m\\n\u001b[39;00m\u001b[39m\\x00\u001b[39;00m\u001b[39m\\x00\u001b[39;00m\u001b[39m\\x00\u001b[39;00m\u001b[39m\\r\u001b[39;00m\u001b[39mIHDR\u001b[39m\u001b[39m\\x00\u001b[39;00m\u001b[39m\\x00\u001b[39;00m\u001b[39m\\x00\u001b[39;00m\u001b[39m\\x0e\u001b[39;00m\u001b[39m\\x00\u001b[39;00m\u001b[39m\\x00\u001b[39;00m\u001b[39m\\x00\u001b[39;00m\u001b[39m\\x07\u001b[39;00m\u001b[39m\\x08\u001b[39;00m\u001b[39m\\x06\u001b[39;00m\u001b[39m\\x00\u001b[39;00m\u001b[39m\\x00\u001b[39;00m\u001b[39m\\x00\u001b[39;00m\u001b[39m8G|\u001b[39m\u001b[39m\\x19\u001b[39;00m\u001b[39m\\x00\u001b[39;00m\u001b[39m\\x00\u001b[39;00m\u001b[39m\\x00\u001b[39;00m\u001b[39m\\t\u001b[39;00m\u001b[39mpHYs\u001b[39m\u001b[39m\\x00\u001b[39;00m\u001b[39m\\x00\u001b[39;00m\u001b[39m\\x10\u001b[39;00m\u001b[39m\\x9b\u001b[39;00m\u001b[39m\\x00\u001b[39;00m\u001b[39m\\x00\u001b[39;00m\u001b[39m\\x10\u001b[39;00m\u001b[39m\\x9b\u001b[39;00m\u001b[39m\\x01\u001b[39;00m\u001b[39mt\u001b[39m\u001b[39m\\x89\u001b[39;00m\u001b[39m\\x9c\u001b[39;00m\u001b[39mK\u001b[39m\u001b[39m\\x00\u001b[39;00m\u001b[39m\\x00\u001b[39;00m\u001b[39m\\x00\u001b[39;00m\u001b[39m\\x19\u001b[39;00m\u001b[39mtEXtSoftware\u001b[39m\u001b[39m\\x00\u001b[39;00m\u001b[39mwww.inkscape.org\u001b[39m\u001b[39m\\x9b\u001b[39;00m\u001b[39m\\xee\u001b[39;00m\u001b[39m<\u001b[39m\u001b[39m\\x1a\u001b[39;00m\u001b[39m\\x00\u001b[39;00m\u001b[39m\\x00\u001b[39;00m\u001b[39m\\x00\u001b[39;00m\u001b[39mOIDAT\u001b[39m\u001b[39m\\x18\u001b[39;00m\u001b[39m\\x95\u001b[39;00m\u001b[39m\\x95\u001b[39;00m\u001b[39m\\xce\u001b[39;00m\u001b[39m\\xb1\u001b[39;00m\u001b[39m\\x0e\u001b[39;00m\u001b[39m@P\u001b[39m\u001b[39m\\x0c\u001b[39;00m\u001b[39mF\u001b[39m\u001b[39m\\xe1\u001b[39;00m\u001b[39m\\xef\u001b[39;00m\u001b[39mzI\u001b[39m\u001b[39m\\x8f\u001b[39;00m\u001b[39mc$\u001b[39m\u001b[39m\\x12\u001b[39;00m\u001b[39m\\x11\u001b[39;00m\u001b[39m1\u001b[39m\u001b[39m\\x19\u001b[39;00m\u001b[39m\\xec\u001b[39;00m\u001b[39m\\x9e\u001b[39;00m\u001b[39m\\x12\u001b[39;00m\u001b[39m\\xcb\u001b[39;00m\u001b[39m\\x95\u001b[39;00m\u001b[39m A\u001b[39m\u001b[39m\\x9d\u001b[39;00m\u001b[39m\\xa4\u001b[39;00m\u001b[39mK\u001b[39m\u001b[39m\\xff\u001b[39;00m\u001b[39m\\x9e\u001b[39;00m\u001b[39m\\xb6\u001b[39;00m\u001b[39m\\t\u001b[39;00m\u001b[39m\\x13\u001b[39;00m\u001b[39mJ\u001b[39m\u001b[39m\\xff\u001b[39;00m\u001b[39mX \u001b[39m\u001b[39m\\xa1\u001b[39;00m\u001b[39m\\xc7\u001b[39;00m\u001b[39m\\x16\u001b[39;00m\u001b[39m\\xac\u001b[39;00m\u001b[39m\\x19\u001b[39;00m\u001b[39m\\xc5\u001b[39;00m\u001b[39m\\xb1\u001b[39;00m\u001b[39m!*\u001b[39m\u001b[39m\\x8f\u001b[39;00m\u001b[39my\u001b[39m\u001b[39m\\xf6\u001b[39;00m\u001b[39mBB\u001b[39m\u001b[39m\\xf7\u001b[39;00m\u001b[39m\"\u001b[39m\u001b[39m\\r\u001b[39;00m\u001b[39m_\u001b[39m\u001b[39m\\xff\u001b[39;00m\u001b[39m77a\u001b[39m\u001b[39m\\xcd\u001b[39;00m\u001b[39m\\xbd\u001b[39;00m\u001b[39m\\x10\u001b[39;00m\u001b[39m\\xed\u001b[39;00m\u001b[39mI\u001b[39m\u001b[39m\\xaa\u001b[39;00m\u001b[39m\\xa3\u001b[39;00m\u001b[39m\\xd2\u001b[39;00m\u001b[39m\\xf9\u001b[39;00m\u001b[39mr\u001b[39m\u001b[39m\\xf5\u001b[39;00m\u001b[39m\\x14\u001b[39;00m\u001b[39m\\xee\u001b[39;00m\u001b[39m^N&\u001b[39m\u001b[39m\\x14\u001b[39;00m\u001b[39m\\xab\u001b[39;00m\u001b[39m\\xef\u001b[39;00m\u001b[39m\\xa9\u001b[39;00m\u001b[39m\\'\u001b[39;00m\u001b[39m\\x00\u001b[39;00m\u001b[39m\\x00\u001b[39;00m\u001b[39m\\x00\u001b[39;00m\u001b[39m\\x00\u001b[39;00m\u001b[39mIEND\u001b[39m\u001b[39m\\xae\u001b[39;00m\u001b[39mB`\u001b[39m\u001b[39m\\x82\u001b[39;00m\u001b[39m'\u001b[39m\n\u001b[0;32m     <a href='vscode-notebook-cell:/c%3A/Users/PRADEEP/Documents/Python%20Codes/SamlpeGUI/test.ipynb#W2sZmlsZQ%3D%3D?line=12'>13</a>\u001b[0m up \u001b[39m=\u001b[39m \u001b[39mb\u001b[39m\u001b[39m'\u001b[39m\u001b[39m\\x89\u001b[39;00m\u001b[39mPNG\u001b[39m\u001b[39m\\r\u001b[39;00m\u001b[39m\\n\u001b[39;00m\u001b[39m\\x1a\u001b[39;00m\u001b[39m\\n\u001b[39;00m\u001b[39m\\x00\u001b[39;00m\u001b[39m\\x00\u001b[39;00m\u001b[39m\\x00\u001b[39;00m\u001b[39m\\r\u001b[39;00m\u001b[39mIHDR\u001b[39m\u001b[39m\\x00\u001b[39;00m\u001b[39m\\x00\u001b[39;00m\u001b[39m\\x00\u001b[39;00m\u001b[39m\\x0e\u001b[39;00m\u001b[39m\\x00\u001b[39;00m\u001b[39m\\x00\u001b[39;00m\u001b[39m\\x00\u001b[39;00m\u001b[39m\\x07\u001b[39;00m\u001b[39m\\x08\u001b[39;00m\u001b[39m\\x06\u001b[39;00m\u001b[39m\\x00\u001b[39;00m\u001b[39m\\x00\u001b[39;00m\u001b[39m\\x00\u001b[39;00m\u001b[39m8G|\u001b[39m\u001b[39m\\x19\u001b[39;00m\u001b[39m\\x00\u001b[39;00m\u001b[39m\\x00\u001b[39;00m\u001b[39m\\x00\u001b[39;00m\u001b[39m\\t\u001b[39;00m\u001b[39mpHYs\u001b[39m\u001b[39m\\x00\u001b[39;00m\u001b[39m\\x00\u001b[39;00m\u001b[39m\\x10\u001b[39;00m\u001b[39m\\x9b\u001b[39;00m\u001b[39m\\x00\u001b[39;00m\u001b[39m\\x00\u001b[39;00m\u001b[39m\\x10\u001b[39;00m\u001b[39m\\x9b\u001b[39;00m\u001b[39m\\x01\u001b[39;00m\u001b[39mt\u001b[39m\u001b[39m\\x89\u001b[39;00m\u001b[39m\\x9c\u001b[39;00m\u001b[39mK\u001b[39m\u001b[39m\\x00\u001b[39;00m\u001b[39m\\x00\u001b[39;00m\u001b[39m\\x00\u001b[39;00m\u001b[39m\\x19\u001b[39;00m\u001b[39mtEXtSoftware\u001b[39m\u001b[39m\\x00\u001b[39;00m\u001b[39mwww.inkscape.org\u001b[39m\u001b[39m\\x9b\u001b[39;00m\u001b[39m\\xee\u001b[39;00m\u001b[39m<\u001b[39m\u001b[39m\\x1a\u001b[39;00m\u001b[39m\\x00\u001b[39;00m\u001b[39m\\x00\u001b[39;00m\u001b[39m\\x00\u001b[39;00m\u001b[39m\\\\\u001b[39;00m\u001b[39mIDAT\u001b[39m\u001b[39m\\x18\u001b[39;00m\u001b[39m\\x95\u001b[39;00m\u001b[39m\\x8d\u001b[39;00m\u001b[39m\\xd0\u001b[39;00m\u001b[39mA\u001b[39m\u001b[39m\\n\u001b[39;00m\u001b[39m\\x83\u001b[39;00m\u001b[39m0\u001b[39m\u001b[39m\\x14\u001b[39;00m\u001b[39m\\x06\u001b[39;00m\u001b[39m\\xe1\u001b[39;00m\u001b[39m/z,\u001b[39m\u001b[39m\\x0f\u001b[39;00m\u001b[39m\\xd2\u001b[39;00m\u001b[39m#\u001b[39m\u001b[39m\\x19\u001b[39;00m\u001b[39m\\\\\u001b[39;00m\u001b[39m\\xb4\u001b[39;00m\u001b[39m\\x08\u001b[39;00m\u001b[39mEp\u001b[39m\u001b[39m\\xe1\u001b[39;00m\u001b[39m\\xbe\u001b[39;00m\u001b[39m\\xd7\u001b[39;00m\u001b[39m\\xe8\u001b[39;00m\u001b[39m\\xc5\u001b[39;00m\u001b[39m\\xd2\u001b[39;00m\u001b[39mn\u001b[39m\u001b[39m\\x12\u001b[39;00m\u001b[39m\\x11\u001b[39;00m\u001b[39m%\u001b[39m\u001b[39m\\x92\u001b[39;00m\u001b[39m\\x81\u001b[39;00m\u001b[39m\\xd9\u001b[39;00m\u001b[39m<\u001b[39m\u001b[39m\\xfe\u001b[39;00m\u001b[39m\\xd9\u001b[39;00m\u001b[39m\\xbc\u001b[39;00m\u001b[39m^\u001b[39m\u001b[39m\\x9d\u001b[39;00m\u001b[39m\\x88\u001b[39;00m\u001b[39m\\x01\u001b[39;00m\u001b[39m\\xdf\u001b[39;00m\u001b[39m\\x9b\u001b[39;00m\u001b[39m\\xcd\u001b[39;00m\u001b[39m\\x85\u001b[39;00m\u001b[39m\\t\u001b[39;00m\u001b[39m?$\u001b[39m\u001b[39m\\x8c\u001b[39;00m\u001b[39m\\xad\u001b[39;00m\u001b[39mQ\u001b[39m\u001b[39m\\xcc\u001b[39;00m\u001b[39mQ1\u001b[39m\u001b[39m\\xe5\u001b[39;00m\u001b[39m[\u001b[39m\u001b[39m\\x95\u001b[39;00m\u001b[39m\\x80\u001b[39;00m\u001b[39m\\xe7\u001b[39;00m\u001b[39m)::\u001b[39m\u001b[39m\\xd7\u001b[39;00m\u001b[39m\\xa2\u001b[39;00m\u001b[39m\\xd7\u001b[39;00m\u001b[39mMT|\u001b[39m\u001b[39m\\xe7\u001b[39;00m\u001b[39m\\xed\u001b[39;00m\u001b[39m\\x1e\u001b[39;00m\u001b[39m-\u001b[39m\u001b[39m\\r\u001b[39;00m\u001b[39mQqC\u001b[39m\u001b[39m\\x17\u001b[39;00m\u001b[39m\\xb0\u001b[39;00m\u001b[39m\\xe2\u001b[39;00m\u001b[39m\\xd1\u001b[39;00m\u001b[39m\\xfa\u001b[39;00m\u001b[39m\\x80\u001b[39;00m\u001b[39m\\xcc\u001b[39;00m\u001b[39m\\xe7\u001b[39;00m\u001b[39m\\x0f\u001b[39;00m\u001b[39mO\u001b[39m\u001b[39m\\xbe\u001b[39;00m\u001b[39m&\u001b[39m\u001b[39m\\x9d\u001b[39;00m\u001b[39mv\u001b[39m\u001b[39m\\xae\u001b[39;00m\u001b[39m\\xef\u001b[39;00m\u001b[39m\\x97\u001b[39;00m\u001b[39m\\x00\u001b[39;00m\u001b[39m\\x00\u001b[39;00m\u001b[39m\\x00\u001b[39;00m\u001b[39m\\x00\u001b[39;00m\u001b[39mIEND\u001b[39m\u001b[39m\\xae\u001b[39;00m\u001b[39mB`\u001b[39m\u001b[39m\\x82\u001b[39;00m\u001b[39m'\u001b[39m\n\u001b[1;32m---> <a href='vscode-notebook-cell:/c%3A/Users/PRADEEP/Documents/Python%20Codes/SamlpeGUI/test.ipynb#W2sZmlsZQ%3D%3D?line=13'>14</a>\u001b[0m imgDown \u001b[39m=\u001b[39m PhotoImage(master\u001b[39m=\u001b[39;49mroot, data\u001b[39m=\u001b[39;49mdown)\n\u001b[0;32m     <a href='vscode-notebook-cell:/c%3A/Users/PRADEEP/Documents/Python%20Codes/SamlpeGUI/test.ipynb#W2sZmlsZQ%3D%3D?line=14'>15</a>\u001b[0m imgUp \u001b[39m=\u001b[39m PhotoImage(master\u001b[39m=\u001b[39mroot, data\u001b[39m=\u001b[39mup)\n\u001b[0;32m     <a href='vscode-notebook-cell:/c%3A/Users/PRADEEP/Documents/Python%20Codes/SamlpeGUI/test.ipynb#W2sZmlsZQ%3D%3D?line=16'>17</a>\u001b[0m master \u001b[39m=\u001b[39m Tk()\n",
      "File \u001b[1;32mc:\\Users\\PRADEEP\\AppData\\Local\\Programs\\Python\\Python38\\lib\\tkinter\\__init__.py:4061\u001b[0m, in \u001b[0;36mPhotoImage.__init__\u001b[1;34m(self, name, cnf, master, **kw)\u001b[0m\n\u001b[0;32m   4056\u001b[0m \u001b[39mdef\u001b[39;00m \u001b[39m__init__\u001b[39m(\u001b[39mself\u001b[39m, name\u001b[39m=\u001b[39m\u001b[39mNone\u001b[39;00m, cnf\u001b[39m=\u001b[39m{}, master\u001b[39m=\u001b[39m\u001b[39mNone\u001b[39;00m, \u001b[39m*\u001b[39m\u001b[39m*\u001b[39mkw):\n\u001b[0;32m   4057\u001b[0m     \u001b[39m\"\"\"Create an image with NAME.\u001b[39;00m\n\u001b[0;32m   4058\u001b[0m \n\u001b[0;32m   4059\u001b[0m \u001b[39m    Valid resource names: data, format, file, gamma, height, palette,\u001b[39;00m\n\u001b[0;32m   4060\u001b[0m \u001b[39m    width.\"\"\"\u001b[39;00m\n\u001b[1;32m-> 4061\u001b[0m     Image\u001b[39m.\u001b[39;49m\u001b[39m__init__\u001b[39;49m(\u001b[39mself\u001b[39;49m, \u001b[39m'\u001b[39;49m\u001b[39mphoto\u001b[39;49m\u001b[39m'\u001b[39;49m, name, cnf, master, \u001b[39m*\u001b[39;49m\u001b[39m*\u001b[39;49mkw)\n",
      "File \u001b[1;32mc:\\Users\\PRADEEP\\AppData\\Local\\Programs\\Python\\Python38\\lib\\tkinter\\__init__.py:4006\u001b[0m, in \u001b[0;36mImage.__init__\u001b[1;34m(self, imgtype, name, cnf, master, **kw)\u001b[0m\n\u001b[0;32m   4004\u001b[0m         v \u001b[39m=\u001b[39m \u001b[39mself\u001b[39m\u001b[39m.\u001b[39m_register(v)\n\u001b[0;32m   4005\u001b[0m     options \u001b[39m=\u001b[39m options \u001b[39m+\u001b[39m (\u001b[39m'\u001b[39m\u001b[39m-\u001b[39m\u001b[39m'\u001b[39m\u001b[39m+\u001b[39mk, v)\n\u001b[1;32m-> 4006\u001b[0m \u001b[39mself\u001b[39;49m\u001b[39m.\u001b[39;49mtk\u001b[39m.\u001b[39;49mcall((\u001b[39m'\u001b[39;49m\u001b[39mimage\u001b[39;49m\u001b[39m'\u001b[39;49m, \u001b[39m'\u001b[39;49m\u001b[39mcreate\u001b[39;49m\u001b[39m'\u001b[39;49m, imgtype, name,) \u001b[39m+\u001b[39;49m options)\n\u001b[0;32m   4007\u001b[0m \u001b[39mself\u001b[39m\u001b[39m.\u001b[39mname \u001b[39m=\u001b[39m name\n",
      "\u001b[1;31mTclError\u001b[0m: can't invoke \"image\" command: application has been destroyed"
     ]
    }
   ],
   "source": [
    "from tkinter import *\n",
    "\n",
    "OPTIONS = [\n",
    "\"Jan\",\n",
    "\"Feb\",\n",
    "\"Mar\"\n",
    "] #etc\n",
    "\n",
    "def hello():\n",
    "    print(\"Hello\")\n",
    "\n",
    "down =b'\\x89PNG\\r\\n\\x1a\\n\\x00\\x00\\x00\\rIHDR\\x00\\x00\\x00\\x0e\\x00\\x00\\x00\\x07\\x08\\x06\\x00\\x00\\x008G|\\x19\\x00\\x00\\x00\\tpHYs\\x00\\x00\\x10\\x9b\\x00\\x00\\x10\\x9b\\x01t\\x89\\x9cK\\x00\\x00\\x00\\x19tEXtSoftware\\x00www.inkscape.org\\x9b\\xee<\\x1a\\x00\\x00\\x00OIDAT\\x18\\x95\\x95\\xce\\xb1\\x0e@P\\x0cF\\xe1\\xefzI\\x8fc$\\x12\\x111\\x19\\xec\\x9e\\x12\\xcb\\x95 A\\x9d\\xa4K\\xff\\x9e\\xb6\\t\\x13J\\xffX \\xa1\\xc7\\x16\\xac\\x19\\xc5\\xb1!*\\x8fy\\xf6BB\\xf7\"\\r_\\xff77a\\xcd\\xbd\\x10\\xedI\\xaa\\xa3\\xd2\\xf9r\\xf5\\x14\\xee^N&\\x14\\xab\\xef\\xa9\\'\\x00\\x00\\x00\\x00IEND\\xaeB`\\x82'\n",
    "up = b'\\x89PNG\\r\\n\\x1a\\n\\x00\\x00\\x00\\rIHDR\\x00\\x00\\x00\\x0e\\x00\\x00\\x00\\x07\\x08\\x06\\x00\\x00\\x008G|\\x19\\x00\\x00\\x00\\tpHYs\\x00\\x00\\x10\\x9b\\x00\\x00\\x10\\x9b\\x01t\\x89\\x9cK\\x00\\x00\\x00\\x19tEXtSoftware\\x00www.inkscape.org\\x9b\\xee<\\x1a\\x00\\x00\\x00\\\\IDAT\\x18\\x95\\x8d\\xd0A\\n\\x830\\x14\\x06\\xe1/z,\\x0f\\xd2#\\x19\\\\\\xb4\\x08Ep\\xe1\\xbe\\xd7\\xe8\\xc5\\xd2n\\x12\\x11%\\x92\\x81\\xd9<\\xfe\\xd9\\xbc^\\x9d\\x88\\x01\\xdf\\x9b\\xcd\\x85\\t?$\\x8c\\xadQ\\xccQ1\\xe5[\\x95\\x80\\xe7)::\\xd7\\xa2\\xd7MT|\\xe7\\xed\\x1e-\\rQqC\\x17\\xb0\\xe2\\xd1\\xfa\\x80\\xcc\\xe7\\x0fO\\xbe&\\x9dv\\xae\\xef\\x97\\x00\\x00\\x00\\x00IEND\\xaeB`\\x82'\n",
    "imgDown = PhotoImage(master=root, data=down)\n",
    "imgUp = PhotoImage(master=root, data=up)\n",
    "\n",
    "master = Tk()\n",
    "\n",
    "variable = StringVar(master)\n",
    "variable.set(OPTIONS[0]) # default value\n",
    "\n",
    "w = OptionMenu(master, variable, *OPTIONS,command=hello)\n",
    "\n",
    "\n",
    "w.configure(indicatoron=0, compound=RIGHT, image=imgDown, width=120)\n",
    "w.pack()\n",
    "\n",
    "mainloop()"
   ]
  },
  {
   "cell_type": "code",
   "execution_count": 56,
   "metadata": {},
   "outputs": [
    {
     "name": "stdout",
     "output_type": "stream",
     "text": [
      " Italy\n",
      " Malaysia\n",
      " Canada\n"
     ]
    }
   ],
   "source": [
    "import tkinter as tk \n",
    "from tkinter import ttk \n",
    "  \n",
    "# Creating tkinter window and set dimensions\n",
    "window = tk.Tk() \n",
    "window.title('Combobox') \n",
    "window.geometry('500x250')\n",
    "\n",
    "def callbackFunc(event):\n",
    "     country = event.widget.get()\n",
    "     print(country)\n",
    "     \n",
    "# label text for title \n",
    "ttk.Label(window, text = \"Choose the country and vote for them\",  \n",
    "          background = 'cyan', foreground =\"black\",  \n",
    "          font = (\"Times New Roman\", 15)).grid(row = 0, column = 1) \n",
    "  \n",
    "# Set label \n",
    "ttk.Label(window, text = \"Select the Country :\", \n",
    "          font = (\"Times New Roman\", 12)).grid(column = 0, \n",
    "          row = 5, padx = 5, pady = 25)\n",
    "\n",
    "  \n",
    "# Create Combobox\n",
    "n = tk.StringVar() \n",
    "country = ttk.Combobox(window, width = 27, textvariable = n) \n",
    "  \n",
    "# Adding combobox drop down list \n",
    "country['values'] = (' India',  \n",
    "                          ' China', \n",
    "                          ' Australia', \n",
    "                          ' Nigeria', \n",
    "                          ' Malaysia', \n",
    "                          ' Italy', \n",
    "                          ' Turkey', \n",
    "                          ' Canada') \n",
    "  \n",
    "country.grid(column = 1, row = 5) \n",
    "country.current()\n",
    "country.bind(\"<<ComboboxSelected>>\", callbackFunc)\n",
    "\n",
    "window.mainloop() "
   ]
  },
  {
   "cell_type": "code",
   "execution_count": 4,
   "metadata": {},
   "outputs": [
    {
     "ename": "ValueError",
     "evalue": "too many values to unpack (expected 3)",
     "output_type": "error",
     "traceback": [
      "\u001b[1;31m---------------------------------------------------------------------------\u001b[0m",
      "\u001b[1;31mValueError\u001b[0m                                Traceback (most recent call last)",
      "\u001b[1;32mc:\\Users\\PRADEEP\\Documents\\Python Codes\\SamlpeGUI\\test.ipynb Cell 5\u001b[0m in \u001b[0;36m<cell line: 3>\u001b[1;34m()\u001b[0m\n\u001b[0;32m      <a href='vscode-notebook-cell:/c%3A/Users/PRADEEP/Documents/Python%20Codes/SamlpeGUI/test.ipynb#W4sZmlsZQ%3D%3D?line=0'>1</a>\u001b[0m \u001b[39mimport\u001b[39;00m \u001b[39mAppClass\u001b[39;00m\n\u001b[1;32m----> <a href='vscode-notebook-cell:/c%3A/Users/PRADEEP/Documents/Python%20Codes/SamlpeGUI/test.ipynb#W4sZmlsZQ%3D%3D?line=2'>3</a>\u001b[0m app \u001b[39m=\u001b[39m AppClass\u001b[39m.\u001b[39;49mSampleAppUI(image_path\u001b[39m=\u001b[39;49m\u001b[39mr\u001b[39;49m\u001b[39m\"\u001b[39;49m\u001b[39mC:\u001b[39;49m\u001b[39m\\\u001b[39;49m\u001b[39mUsers\u001b[39;49m\u001b[39m\\\u001b[39;49m\u001b[39mPRADEEP\u001b[39;49m\u001b[39m\\\u001b[39;49m\u001b[39mDocuments\u001b[39;49m\u001b[39m\\\u001b[39;49m\u001b[39mPython Codes\u001b[39;49m\u001b[39m\\\u001b[39;49m\u001b[39mSamlpeGUI\u001b[39;49m\u001b[39m\\\u001b[39;49m\u001b[39mResume.png\u001b[39;49m\u001b[39m\"\u001b[39;49m,taxonomy_path\u001b[39m=\u001b[39;49m\u001b[39mr\u001b[39;49m\u001b[39m\"\u001b[39;49m\u001b[39mC:\u001b[39;49m\u001b[39m\\\u001b[39;49m\u001b[39mUsers\u001b[39;49m\u001b[39m\\\u001b[39;49m\u001b[39mPRADEEP\u001b[39;49m\u001b[39m\\\u001b[39;49m\u001b[39mDocuments\u001b[39;49m\u001b[39m\\\u001b[39;49m\u001b[39mPython Codes\u001b[39;49m\u001b[39m\\\u001b[39;49m\u001b[39mSamlpeGUI\u001b[39;49m\u001b[39m\\\u001b[39;49m\u001b[39mTaxonomy.json\u001b[39;49m\u001b[39m\"\u001b[39;49m)\n",
      "File \u001b[1;32mc:\\Users\\PRADEEP\\Documents\\Python Codes\\SamlpeGUI\\AppClass.py:33\u001b[0m, in \u001b[0;36mSampleAppUI.__init__\u001b[1;34m(self, image_path, taxonomy_path)\u001b[0m\n\u001b[0;32m     31\u001b[0m \u001b[39mdef\u001b[39;00m \u001b[39m__init__\u001b[39m(\u001b[39mself\u001b[39m,image_path,taxonomy_path):\n\u001b[1;32m---> 33\u001b[0m     \u001b[39mself\u001b[39m\u001b[39m.\u001b[39mlabels,\u001b[39mself\u001b[39m\u001b[39m.\u001b[39mentries,\u001b[39mself\u001b[39m\u001b[39m.\u001b[39mbuttons \u001b[39m=\u001b[39m NONE\n\u001b[0;32m     34\u001b[0m     \u001b[39mself\u001b[39m\u001b[39m.\u001b[39mimage_path \u001b[39m=\u001b[39m image_path\n\u001b[0;32m     35\u001b[0m     \u001b[39mself\u001b[39m\u001b[39m.\u001b[39mtaxonomy_path \u001b[39m=\u001b[39m taxonomy_path\n",
      "\u001b[1;31mValueError\u001b[0m: too many values to unpack (expected 3)"
     ]
    }
   ],
   "source": [
    "import AppClass\n",
    "\n",
    "app = AppClass.SampleAppUI(image_path=r\"C:\\Users\\PRADEEP\\Documents\\Python Codes\\SamlpeGUI\\Resume.png\",taxonomy_path=r\"C:\\Users\\PRADEEP\\Documents\\Python Codes\\SamlpeGUI\\Taxonomy.json\")"
   ]
  },
  {
   "cell_type": "code",
   "execution_count": 3,
   "metadata": {},
   "outputs": [
    {
     "ename": "TypeError",
     "evalue": "read_json() takes 1 positional argument but 2 were given",
     "output_type": "error",
     "traceback": [
      "\u001b[1;31m---------------------------------------------------------------------------\u001b[0m",
      "\u001b[1;31mTypeError\u001b[0m                                 Traceback (most recent call last)",
      "\u001b[1;32mc:\\Users\\PRADEEP\\Documents\\Python Codes\\SamlpeGUI\\test.ipynb Cell 6\u001b[0m in \u001b[0;36m<cell line: 6>\u001b[1;34m()\u001b[0m\n\u001b[0;32m      <a href='vscode-notebook-cell:/c%3A/Users/PRADEEP/Documents/Python%20Codes/SamlpeGUI/test.ipynb#W5sZmlsZQ%3D%3D?line=0'>1</a>\u001b[0m \u001b[39mimport\u001b[39;00m \u001b[39mAppClass\u001b[39;00m\n\u001b[0;32m      <a href='vscode-notebook-cell:/c%3A/Users/PRADEEP/Documents/Python%20Codes/SamlpeGUI/test.ipynb#W5sZmlsZQ%3D%3D?line=2'>3</a>\u001b[0m app \u001b[39m=\u001b[39m AppClass\u001b[39m.\u001b[39mSampleAppUI(image_path\u001b[39m=\u001b[39m\u001b[39mr\u001b[39m\u001b[39m\"\u001b[39m\u001b[39mC:\u001b[39m\u001b[39m\\\u001b[39m\u001b[39mUsers\u001b[39m\u001b[39m\\\u001b[39m\u001b[39mPRADEEP\u001b[39m\u001b[39m\\\u001b[39m\u001b[39mDocuments\u001b[39m\u001b[39m\\\u001b[39m\u001b[39mPython Codes\u001b[39m\u001b[39m\\\u001b[39m\u001b[39mSamlpeGUI\u001b[39m\u001b[39m\\\u001b[39m\u001b[39mResume.png\u001b[39m\u001b[39m\"\u001b[39m,\n\u001b[0;32m      <a href='vscode-notebook-cell:/c%3A/Users/PRADEEP/Documents/Python%20Codes/SamlpeGUI/test.ipynb#W5sZmlsZQ%3D%3D?line=3'>4</a>\u001b[0m         taxonomy_path\u001b[39m=\u001b[39m\u001b[39mr\u001b[39m\u001b[39m\"\u001b[39m\u001b[39mC:\u001b[39m\u001b[39m\\\u001b[39m\u001b[39mUsers\u001b[39m\u001b[39m\\\u001b[39m\u001b[39mPRADEEP\u001b[39m\u001b[39m\\\u001b[39m\u001b[39mDocuments\u001b[39m\u001b[39m\\\u001b[39m\u001b[39mPython Codes\u001b[39m\u001b[39m\\\u001b[39m\u001b[39mSamlpeGUI\u001b[39m\u001b[39m\\\u001b[39m\u001b[39mTaxonomy.json\u001b[39m\u001b[39m\"\u001b[39m)\n\u001b[1;32m----> <a href='vscode-notebook-cell:/c%3A/Users/PRADEEP/Documents/Python%20Codes/SamlpeGUI/test.ipynb#W5sZmlsZQ%3D%3D?line=5'>6</a>\u001b[0m app\u001b[39m.\u001b[39;49mcreate_main_ui()\n",
      "File \u001b[1;32mc:\\Users\\PRADEEP\\Documents\\Python Codes\\SamlpeGUI\\AppClass.py:128\u001b[0m, in \u001b[0;36mSampleAppUI.create_main_ui\u001b[1;34m(self)\u001b[0m\n\u001b[0;32m    126\u001b[0m \u001b[39mdef\u001b[39;00m \u001b[39mcreate_main_ui\u001b[39m(\u001b[39mself\u001b[39m):\n\u001b[1;32m--> 128\u001b[0m     \u001b[39mself\u001b[39m\u001b[39m.\u001b[39mtaxonomy \u001b[39m=\u001b[39m \u001b[39mself\u001b[39;49m\u001b[39m.\u001b[39;49mread_json(\u001b[39mself\u001b[39;49m\u001b[39m.\u001b[39;49mtaxonomy_path)\n\u001b[0;32m    130\u001b[0m     Label(\u001b[39mself\u001b[39m\u001b[39m.\u001b[39mwindow, text \u001b[39m=\u001b[39m \u001b[39m\"\u001b[39m\u001b[39mDocument Type\u001b[39m\u001b[39m\"\u001b[39m,font\u001b[39m=\u001b[39m(\u001b[39m\"\u001b[39m\u001b[39mAriel\u001b[39m\u001b[39m\"\u001b[39m,\u001b[39m15\u001b[39m))\u001b[39m.\u001b[39mgrid(row\u001b[39m=\u001b[39m\u001b[39m0\u001b[39m,column\u001b[39m=\u001b[39m\u001b[39m0\u001b[39m,sticky \u001b[39m=\u001b[39m W,padx \u001b[39m=\u001b[39m \u001b[39m10\u001b[39m, pady \u001b[39m=\u001b[39m \u001b[39m6\u001b[39m)\n\u001b[0;32m    132\u001b[0m     country \u001b[39m=\u001b[39m ttk\u001b[39m.\u001b[39mCombobox(\u001b[39mself\u001b[39m\u001b[39m.\u001b[39mwindow, textvariable \u001b[39m=\u001b[39m StringVar() ,font\u001b[39m=\u001b[39m(\u001b[39m\"\u001b[39m\u001b[39mAriel\u001b[39m\u001b[39m\"\u001b[39m, \u001b[39m15\u001b[39m)) \n",
      "\u001b[1;31mTypeError\u001b[0m: read_json() takes 1 positional argument but 2 were given"
     ]
    }
   ],
   "source": [
    "import AppClass\n",
    "\n",
    "app = AppClass.SampleAppUI(image_path=r\"C:\\Users\\PRADEEP\\Documents\\Python Codes\\SamlpeGUI\\Resume.png\",\n",
    "        taxonomy_path=r\"C:\\Users\\PRADEEP\\Documents\\Python Codes\\SamlpeGUI\\Taxonomy.json\")\n",
    "\n",
    "app.create_main_ui()"
   ]
  },
  {
   "cell_type": "code",
   "execution_count": 2,
   "metadata": {},
   "outputs": [
    {
     "name": "stdout",
     "output_type": "stream",
     "text": [
      "Big Brothers, Big Sisters Active Volunteer * Connected and built a relationship with talented 9-year old girl.\n"
     ]
    }
   ],
   "source": [
    "import re\n",
    "a = \"Big Brothers, Big Sisters\\nActive Volunteer\\n* Connected and built a relationship with talented 9-year old girl.\"\n",
    "\n",
    "\n",
    "print(a.replace(\"\\n\",\" \"))"
   ]
  }
 ],
 "metadata": {
  "kernelspec": {
   "display_name": "Python 3.8.0 64-bit",
   "language": "python",
   "name": "python3"
  },
  "language_info": {
   "codemirror_mode": {
    "name": "ipython",
    "version": 3
   },
   "file_extension": ".py",
   "mimetype": "text/x-python",
   "name": "python",
   "nbconvert_exporter": "python",
   "pygments_lexer": "ipython3",
   "version": "3.8.0"
  },
  "orig_nbformat": 4,
  "vscode": {
   "interpreter": {
    "hash": "9149ed8462195d9a55f76050b57dbd9acb03b8c142c8bd9004bd474e3f72babb"
   }
  }
 },
 "nbformat": 4,
 "nbformat_minor": 2
}
